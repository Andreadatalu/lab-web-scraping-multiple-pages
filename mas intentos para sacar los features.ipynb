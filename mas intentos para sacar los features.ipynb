{
 "cells": [
  {
   "cell_type": "code",
   "execution_count": null,
   "id": "d03a3b39",
   "metadata": {},
   "outputs": [],
   "source": [
    "features = ['danceability', 'energy', 'loudness', 'speechiness', 'acousticness',\n",
    "            'instrumentalness', 'liveness', 'valence', 'tempo']\n",
    "\n",
    "def get_audio_features(uri):\n",
    "    audio_features = sp.audio_features(uri)[0]\n",
    "    return audio_features\n",
    "\n",
    "for feature in features:\n",
    "    playlist_mix1[feature] = playlist_mix1['uri'].apply(lambda uri: get_audio_features(uri)[feature])\n",
    "\n",
    "playlist_mix1"
   ]
  },
  {
   "cell_type": "code",
   "execution_count": null,
   "id": "13f9ba77",
   "metadata": {},
   "outputs": [],
   "source": [
    "%%time\n",
    "features = ['danceability', 'energy', 'loudness', 'speechiness', 'acousticness',\n",
    "            'instrumentalness', 'liveness', 'valence', 'tempo']\n",
    "\n",
    "def get_audio_features(uri):\n",
    "    audio_features = sp.audio_features(uri)[0]\n",
    "    return audio_features\n",
    "\n",
    "for feature in features:\n",
    "    playlist_mix2[feature] = playlist_mix2['uri'].apply(lambda uri: get_audio_features(uri)[feature])\n",
    "\n",
    "playlist_mix2"
   ]
  },
  {
   "cell_type": "code",
   "execution_count": null,
   "id": "06b3687b",
   "metadata": {},
   "outputs": [],
   "source": [
    "uris = playlist_mix1['uri']\n",
    "audio_features_list1 = []\n",
    "\n",
    "for uri in uris:\n",
    "    audio_features = sp.audio_features(uri)\n",
    "    audio_features_list.append(audio_features)\n",
    "    sleep(randint(1000, 3000) / 1000)\n",
    "\n",
    "audio_features_list1"
   ]
  },
  {
   "cell_type": "code",
   "execution_count": null,
   "id": "0d77e6e9",
   "metadata": {},
   "outputs": [],
   "source": [
    "def get_audio_features(uris):\n",
    "    audio_features = sp.audio_features(uris)\n",
    "    return audio_features\n",
    "fragmentos = [playlist_mix[i:i+1000] for i in range(0, len(playlist_mix), 1000)]\n",
    "\n",
    "for fragmento in fragmentos:\n",
    "    uris = fragmento['uri'].tolist()\n",
    "    audio_features = get_audio_features(uris)\n",
    "    for feature in features:\n",
    "        fragmento[feature] = [af[feature] for af in audio_features]"
   ]
  },
  {
   "cell_type": "code",
   "execution_count": null,
   "id": "ad91eff4",
   "metadata": {},
   "outputs": [],
   "source": [
    "playlist = sp.user_playlist_tracks(\"spotify\", \"5S8SJdl1BDc0ugpkEvFsIL\")\n",
    "playlist"
   ]
  },
  {
   "cell_type": "code",
   "execution_count": null,
   "id": "9a9cfdaf",
   "metadata": {},
   "outputs": [],
   "source": [
    "playlist.keys() "
   ]
  },
  {
   "cell_type": "code",
   "execution_count": null,
   "id": "e20ec1a7",
   "metadata": {},
   "outputs": [],
   "source": [
    "playlist['items'][0].keys() "
   ]
  },
  {
   "cell_type": "code",
   "execution_count": null,
   "id": "a95362e2",
   "metadata": {},
   "outputs": [],
   "source": [
    "playlist['items'][0]['track'].keys() "
   ]
  },
  {
   "cell_type": "code",
   "execution_count": null,
   "id": "ce98d184",
   "metadata": {},
   "outputs": [],
   "source": []
  }
 ],
 "metadata": {
  "kernelspec": {
   "display_name": "Python 3 (ipykernel)",
   "language": "python",
   "name": "python3"
  },
  "language_info": {
   "codemirror_mode": {
    "name": "ipython",
    "version": 3
   },
   "file_extension": ".py",
   "mimetype": "text/x-python",
   "name": "python",
   "nbconvert_exporter": "python",
   "pygments_lexer": "ipython3",
   "version": "3.10.9"
  }
 },
 "nbformat": 4,
 "nbformat_minor": 5
}
