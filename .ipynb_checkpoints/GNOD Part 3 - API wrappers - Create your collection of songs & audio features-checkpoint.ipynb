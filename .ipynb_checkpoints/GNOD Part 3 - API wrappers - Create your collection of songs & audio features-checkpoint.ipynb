{
 "cells": [
  {
   "cell_type": "markdown",
   "id": "2d388d5d",
   "metadata": {},
   "source": [
    "# GNOD Part 3"
   ]
  },
  {
   "cell_type": "raw",
   "id": "e55c73b8",
   "metadata": {},
   "source": [
    "Authentification"
   ]
  },
  {
   "cell_type": "code",
   "execution_count": null,
   "id": "32cb28cf",
   "metadata": {},
   "outputs": [],
   "source": [
    "import spotipy\n",
    "from spotipy.oauth2 import SpotifyClientCredentials\n",
    "import pandas as pd"
   ]
  },
  {
   "cell_type": "code",
   "execution_count": null,
   "id": "e86a7a13",
   "metadata": {},
   "outputs": [],
   "source": [
    "secrets_file = open(\"secrets.txt\",\"r\")"
   ]
  },
  {
   "cell_type": "code",
   "execution_count": null,
   "id": "74b37edc",
   "metadata": {},
   "outputs": [],
   "source": [
    "string = secrets_file.read()"
   ]
  },
  {
   "cell_type": "code",
   "execution_count": null,
   "id": "cc6564ba",
   "metadata": {},
   "outputs": [],
   "source": [
    "#string.split('\\n')"
   ]
  },
  {
   "cell_type": "code",
   "execution_count": null,
   "id": "92192636",
   "metadata": {},
   "outputs": [],
   "source": [
    "secrets_dict={}\n",
    "for line in string.split('\\n'):\n",
    "    if len(line) > 0:\n",
    "        secrets_dict[line.split(':')[0]]=line.split(':')[1].strip()"
   ]
  },
  {
   "cell_type": "code",
   "execution_count": null,
   "id": "c976db61",
   "metadata": {},
   "outputs": [],
   "source": [
    "#secrets_dict"
   ]
  },
  {
   "cell_type": "code",
   "execution_count": null,
   "id": "44c20919",
   "metadata": {},
   "outputs": [],
   "source": [
    "import spotipy\n",
    "from spotipy.oauth2 import SpotifyClientCredentials\n",
    "\n",
    "#Initialize SpotiPy with user credentials\n",
    "sp = spotipy.Spotify(auth_manager=SpotifyClientCredentials(client_id=secrets_dict['ClientID'],\n",
    "                                                           client_secret=secrets_dict['Clientsecret']))"
   ]
  },
  {
   "cell_type": "code",
   "execution_count": null,
   "id": "80fe59a0",
   "metadata": {},
   "outputs": [],
   "source": [
    "playlist = sp.user_playlist_tracks(\"spotify\", \"5S8SJdl1BDc0ugpkEvFsIL\")"
   ]
  },
  {
   "cell_type": "code",
   "execution_count": null,
   "id": "e2ccdfb0",
   "metadata": {},
   "outputs": [],
   "source": [
    "playlist "
   ]
  },
  {
   "cell_type": "raw",
   "id": "6ad9620f",
   "metadata": {},
   "source": [
    "--> Exploring the playlist"
   ]
  },
  {
   "cell_type": "code",
   "execution_count": null,
   "id": "aee49651",
   "metadata": {},
   "outputs": [],
   "source": [
    "playlist.keys() "
   ]
  },
  {
   "cell_type": "code",
   "execution_count": null,
   "id": "6dcc8204",
   "metadata": {},
   "outputs": [],
   "source": [
    "len(playlist[\"items\"])"
   ]
  },
  {
   "cell_type": "code",
   "execution_count": null,
   "id": "f4bdc770",
   "metadata": {},
   "outputs": [],
   "source": [
    "playlist[\"total\"]"
   ]
  },
  {
   "cell_type": "code",
   "execution_count": null,
   "id": "77ce0a29",
   "metadata": {},
   "outputs": [],
   "source": [
    "playlist['items'][0].keys() "
   ]
  },
  {
   "cell_type": "code",
   "execution_count": null,
   "id": "f40d0f05",
   "metadata": {},
   "outputs": [],
   "source": [
    "playlist['items'][0]['track'].keys() "
   ]
  },
  {
   "cell_type": "code",
   "execution_count": null,
   "id": "c9a7d979",
   "metadata": {},
   "outputs": [],
   "source": [
    "playlist['items'][0]['track']['artists']"
   ]
  },
  {
   "cell_type": "code",
   "execution_count": null,
   "id": "43feea98",
   "metadata": {},
   "outputs": [],
   "source": [
    "playlist['items'][0]['track']['name']"
   ]
  },
  {
   "cell_type": "code",
   "execution_count": null,
   "id": "86fb0e46",
   "metadata": {},
   "outputs": [],
   "source": [
    "def get_name_artists_from_track(track):\n",
    "    return [(track[\"name\"],artist[\"name\"], track['uri']) for artist in track[\"artists\"]]"
   ]
  },
  {
   "cell_type": "code",
   "execution_count": null,
   "id": "46cdce9f",
   "metadata": {},
   "outputs": [],
   "source": [
    "my_track = playlist['items'][0]['track']"
   ]
  },
  {
   "cell_type": "code",
   "execution_count": null,
   "id": "5ea4a390",
   "metadata": {},
   "outputs": [],
   "source": [
    "song_info = get_name_artists_from_track(my_track)\n",
    "song_info"
   ]
  },
  {
   "cell_type": "code",
   "execution_count": null,
   "id": "5846f13e",
   "metadata": {},
   "outputs": [],
   "source": []
  },
  {
   "cell_type": "code",
   "execution_count": null,
   "id": "9b725114",
   "metadata": {},
   "outputs": [],
   "source": [
    "from random import randint\n",
    "from time import sleep\n",
    "\n",
    "def get_playlist_tracks(playlist_id):\n",
    "    results = sp.user_playlist_tracks(\"spotify\",playlist_id)\n",
    "    tracks = results['items']\n",
    "    while results['next']!=None:\n",
    "        results = sp.next(results)\n",
    "        tracks = tracks + results['items']\n",
    "        sleep(randint(1,3000)/1000)\n",
    "    return tracks"
   ]
  },
  {
   "cell_type": "code",
   "execution_count": null,
   "id": "15f5df38",
   "metadata": {},
   "outputs": [],
   "source": [
    "all_tracks = get_playlist_tracks(\"5S8SJdl1BDc0ugpkEvFsIL\")\n",
    "#len(all_tracks)"
   ]
  },
  {
   "cell_type": "code",
   "execution_count": null,
   "id": "307e100e",
   "metadata": {},
   "outputs": [],
   "source": [
    "len(all_tracks)"
   ]
  },
  {
   "cell_type": "code",
   "execution_count": null,
   "id": "738d6257",
   "metadata": {},
   "outputs": [],
   "source": [
    "all_songs_artists = []\n",
    "\n",
    "for item in all_tracks:\n",
    "    track = item['track']\n",
    "    song_artists = get_name_artists_from_track(track)\n",
    "    uri = get_name_artists_from_track(track)\n",
    "    all_songs_artists.append(song_artists)\n",
    "\n",
    "all_songs_artists"
   ]
  },
  {
   "cell_type": "code",
   "execution_count": null,
   "id": "4bd35220",
   "metadata": {},
   "outputs": [],
   "source": [
    "len(all_songs_artists)"
   ]
  },
  {
   "cell_type": "code",
   "execution_count": null,
   "id": "db06e977",
   "metadata": {},
   "outputs": [],
   "source": [
    "def flatten(input_list):\n",
    "    return [item for sublist in input_list for item in sublist]"
   ]
  },
  {
   "cell_type": "code",
   "execution_count": null,
   "id": "99d28ac6",
   "metadata": {},
   "outputs": [],
   "source": [
    "flatten_songs = flatten(all_songs_artists)\n",
    "flatten_songs"
   ]
  },
  {
   "cell_type": "code",
   "execution_count": null,
   "id": "1e55ad86",
   "metadata": {},
   "outputs": [],
   "source": [
    "len(flatten_songs)"
   ]
  },
  {
   "cell_type": "markdown",
   "id": "c2a8a58b",
   "metadata": {},
   "source": [
    "# DataFrame creation"
   ]
  },
  {
   "cell_type": "code",
   "execution_count": null,
   "id": "0ec537d9",
   "metadata": {},
   "outputs": [],
   "source": [
    "import pandas as pd\n",
    "playlist_mix = pd.DataFrame((flatten_songs), columns=['title','artist','uri'])\n",
    "playlist_mix"
   ]
  },
  {
   "cell_type": "markdown",
   "id": "b6233c96",
   "metadata": {},
   "source": [
    "# 5,000 songs - Playlist 1"
   ]
  },
  {
   "cell_type": "code",
   "execution_count": null,
   "id": "5372798f",
   "metadata": {},
   "outputs": [],
   "source": [
    "playlist_mix1 = playlist_mix[:5000]\n",
    "playlist_mix1"
   ]
  },
  {
   "cell_type": "code",
   "execution_count": null,
   "id": "5206d48c",
   "metadata": {},
   "outputs": [],
   "source": [
    "import numpy as np\n",
    "import pandas as pd\n",
    "\n",
    "uris = playlist_mix1['uri'].tolist()\n",
    "uri_groups = np.array_split(uris, len(uris) // 100 + 1)"
   ]
  },
  {
   "cell_type": "code",
   "execution_count": null,
   "id": "fcdd88a7",
   "metadata": {},
   "outputs": [],
   "source": [
    "len(uri_groups)"
   ]
  },
  {
   "cell_type": "code",
   "execution_count": null,
   "id": "dcccf483",
   "metadata": {},
   "outputs": [],
   "source": [
    "audio_features_list = []\n",
    "\n",
    "for uri_group in uri_groups:\n",
    "    audio_features = sp.audio_features(uri_group)\n",
    "    audio_features_list.extend(audio_features)\n",
    "    sleep(randint(1000, 3000) / 1000)\n",
    "\n",
    "audio_features_list"
   ]
  },
  {
   "cell_type": "code",
   "execution_count": null,
   "id": "fcd3fe54",
   "metadata": {},
   "outputs": [],
   "source": [
    "audio_features_df = pd.DataFrame(audio_features_list)\n",
    "\n",
    "playlist_mix1 = pd.concat([playlist_mix1, audio_features_df], axis=1)"
   ]
  },
  {
   "cell_type": "code",
   "execution_count": null,
   "id": "22320306",
   "metadata": {},
   "outputs": [],
   "source": [
    "playlist_mix1 = playlist_mix1.drop_duplicates()"
   ]
  },
  {
   "cell_type": "code",
   "execution_count": null,
   "id": "d7457426",
   "metadata": {},
   "outputs": [],
   "source": [
    "playlist_mix1.columns"
   ]
  },
  {
   "cell_type": "code",
   "execution_count": null,
   "id": "767789c6",
   "metadata": {},
   "outputs": [],
   "source": [
    "len(playlist_mix1)"
   ]
  },
  {
   "cell_type": "code",
   "execution_count": null,
   "id": "125caabf",
   "metadata": {},
   "outputs": [],
   "source": []
  }
 ],
 "metadata": {
  "kernelspec": {
   "display_name": "Python 3 (ipykernel)",
   "language": "python",
   "name": "python3"
  },
  "language_info": {
   "codemirror_mode": {
    "name": "ipython",
    "version": 3
   },
   "file_extension": ".py",
   "mimetype": "text/x-python",
   "name": "python",
   "nbconvert_exporter": "python",
   "pygments_lexer": "ipython3",
   "version": "3.10.9"
  }
 },
 "nbformat": 4,
 "nbformat_minor": 5
}
