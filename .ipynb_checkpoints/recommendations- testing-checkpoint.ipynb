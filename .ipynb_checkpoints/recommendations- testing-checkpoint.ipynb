{
 "cells": [
  {
   "cell_type": "code",
   "execution_count": 1,
   "id": "c4feb02b",
   "metadata": {},
   "outputs": [
    {
     "data": {
      "text/html": [
       "<div>\n",
       "<style scoped>\n",
       "    .dataframe tbody tr th:only-of-type {\n",
       "        vertical-align: middle;\n",
       "    }\n",
       "\n",
       "    .dataframe tbody tr th {\n",
       "        vertical-align: top;\n",
       "    }\n",
       "\n",
       "    .dataframe thead th {\n",
       "        text-align: right;\n",
       "    }\n",
       "</style>\n",
       "<table border=\"1\" class=\"dataframe\">\n",
       "  <thead>\n",
       "    <tr style=\"text-align: right;\">\n",
       "      <th></th>\n",
       "      <th>title</th>\n",
       "      <th>artist</th>\n",
       "    </tr>\n",
       "  </thead>\n",
       "  <tbody>\n",
       "    <tr>\n",
       "      <th>0</th>\n",
       "      <td>81 Million Votes, My Ass</td>\n",
       "      <td>The Truth Bombers &amp; Kari Lake</td>\n",
       "    </tr>\n",
       "    <tr>\n",
       "      <th>1</th>\n",
       "      <td>Fast Car</td>\n",
       "      <td>Luke Combs</td>\n",
       "    </tr>\n",
       "    <tr>\n",
       "      <th>2</th>\n",
       "      <td>Last Night</td>\n",
       "      <td>Morgan Wallen</td>\n",
       "    </tr>\n",
       "    <tr>\n",
       "      <th>3</th>\n",
       "      <td>Take Two</td>\n",
       "      <td>BTS</td>\n",
       "    </tr>\n",
       "    <tr>\n",
       "      <th>4</th>\n",
       "      <td>Need A Favor</td>\n",
       "      <td>Jelly Roll</td>\n",
       "    </tr>\n",
       "    <tr>\n",
       "      <th>...</th>\n",
       "      <td>...</td>\n",
       "      <td>...</td>\n",
       "    </tr>\n",
       "    <tr>\n",
       "      <th>94</th>\n",
       "      <td>Chasin' You</td>\n",
       "      <td>Morgan Wallen</td>\n",
       "    </tr>\n",
       "    <tr>\n",
       "      <th>95</th>\n",
       "      <td>Sugar Babies</td>\n",
       "      <td>Spoon</td>\n",
       "    </tr>\n",
       "    <tr>\n",
       "      <th>96</th>\n",
       "      <td>How Do I Say Goodbye</td>\n",
       "      <td>Dean Lewis</td>\n",
       "    </tr>\n",
       "    <tr>\n",
       "      <th>97</th>\n",
       "      <td>Beat You There</td>\n",
       "      <td>Will Dempsey</td>\n",
       "    </tr>\n",
       "    <tr>\n",
       "      <th>98</th>\n",
       "      <td>PLEBADA</td>\n",
       "      <td>El Alfa &amp; Peso Pluma</td>\n",
       "    </tr>\n",
       "  </tbody>\n",
       "</table>\n",
       "<p>99 rows × 2 columns</p>\n",
       "</div>"
      ],
      "text/plain": [
       "                       title                         artist\n",
       "0   81 Million Votes, My Ass  The Truth Bombers & Kari Lake\n",
       "1                   Fast Car                     Luke Combs\n",
       "2                 Last Night                  Morgan Wallen\n",
       "3                   Take Two                            BTS\n",
       "4               Need A Favor                     Jelly Roll\n",
       "..                       ...                            ...\n",
       "94               Chasin' You                  Morgan Wallen\n",
       "95              Sugar Babies                          Spoon\n",
       "96      How Do I Say Goodbye                     Dean Lewis\n",
       "97            Beat You There                   Will Dempsey\n",
       "98                   PLEBADA           El Alfa & Peso Pluma\n",
       "\n",
       "[99 rows x 2 columns]"
      ]
     },
     "execution_count": 1,
     "metadata": {},
     "output_type": "execute_result"
    }
   ],
   "source": [
    "import pandas as pd\n",
    "import random\n",
    "\n",
    "top100_list = pd.read_csv('music_top100.csv')\n",
    "top100_list"
   ]
  },
  {
   "cell_type": "code",
   "execution_count": 8,
   "id": "b4f995a6",
   "metadata": {},
   "outputs": [
    {
     "name": "stdout",
     "output_type": "stream",
     "text": [
      "Type a song title: need favor\n",
      "Great! How about checking out 'Karma' by Taylor Swift?\n"
     ]
    }
   ],
   "source": [
    "import difflib\n",
    "\n",
    "def recommend_song(user_song, top100_list):\n",
    "    matching_songs = top100_list[top100_list['title'].apply(lambda x: difflib.SequenceMatcher(None, user_song.lower(), x.lower()).ratio() > 0.5)]\n",
    "    \n",
    "    if not matching_songs.empty:\n",
    "        # Randomly select a different song from the matching songs\n",
    "        random_song = top100_list[top100_list['title'] != user_song].sample(1)\n",
    "        recommended_song = random_song.iloc[0]['title']\n",
    "        recommended_artist = random_song.iloc[0]['artist']\n",
    "        return f\"Great! How about checking out '{recommended_song}' by {recommended_artist}?\"\n",
    "    else:\n",
    "        return \"Sorry, I don't have a recommendation at this time.\"\n",
    "\n",
    "# User input for the song\n",
    "user_input = input(\"Type a song title: \")\n",
    "\n",
    "recommendation = recommend_song(user_input, top100_list)\n",
    "print(recommendation)\n"
   ]
  },
  {
   "cell_type": "code",
   "execution_count": 11,
   "id": "931aea9f",
   "metadata": {},
   "outputs": [
    {
     "name": "stdout",
     "output_type": "stream",
     "text": [
      "Enter a song title: Fast Car \n",
      "Sorry, I don't have a recommendation at this time.\n"
     ]
    }
   ],
   "source": [
    "def recommend_song(user_song, top100_list):\n",
    "    if user_song in top100_list['title'].values:\n",
    "        # Randomly select a different song from the top 100 list\n",
    "        random_song = top100_list[top100_list['title'] != user_song].sample(1)\n",
    "        recommended_song = random_song.iloc[0]['title']\n",
    "        recommended_artist = random_song.iloc[0]['artist']\n",
    "        return f\"Great! How about checking out '{recommended_song}' by {recommended_artist}?\"\n",
    "    else:\n",
    "        return \"Sorry, I don't have a recommendation at this time.\"\n",
    "\n",
    "# User input for the song\n",
    "user_input = input(\"Enter a song title: \")\n",
    "\n",
    "# Call the recommend_song function with user input and the top 100 list DataFrame\n",
    "recommendation = recommend_song(user_input, top100_list)\n",
    "\n",
    "# Print the recommendation\n",
    "print(recommendation)\n"
   ]
  },
  {
   "cell_type": "code",
   "execution_count": null,
   "id": "147afacb",
   "metadata": {},
   "outputs": [],
   "source": []
  }
 ],
 "metadata": {
  "kernelspec": {
   "display_name": "Python 3 (ipykernel)",
   "language": "python",
   "name": "python3"
  },
  "language_info": {
   "codemirror_mode": {
    "name": "ipython",
    "version": 3
   },
   "file_extension": ".py",
   "mimetype": "text/x-python",
   "name": "python",
   "nbconvert_exporter": "python",
   "pygments_lexer": "ipython3",
   "version": "3.10.9"
  }
 },
 "nbformat": 4,
 "nbformat_minor": 5
}
